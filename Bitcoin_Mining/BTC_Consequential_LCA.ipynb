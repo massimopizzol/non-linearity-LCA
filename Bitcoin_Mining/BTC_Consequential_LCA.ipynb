{
 "cells": [
  {
   "cell_type": "markdown",
   "metadata": {},
   "source": [
    "# LCA of Bitcoin Mining (consequential model)"
   ]
  },
  {
   "cell_type": "code",
   "execution_count": 1,
   "metadata": {},
   "outputs": [],
   "source": [
    "import pandas as pd\n",
    "import numpy as np\n",
    "from lci_to_bw2 import *\n",
    "from brightway2 import *\n",
    "from matplotlib import pyplot as plt\n",
    "import time\n",
    "when = time.strftime(\"%Y%m%d\")"
   ]
  },
  {
   "cell_type": "code",
   "execution_count": 2,
   "metadata": {},
   "outputs": [],
   "source": [
    "projects.set_current('BTC_LCA')"
   ]
  },
  {
   "cell_type": "code",
   "execution_count": 3,
   "metadata": {
    "scrolled": true
   },
   "outputs": [
    {
     "data": {
      "text/plain": [
       "Brightway2 projects manager with 4 objects:\n",
       "\tBTC_Att_2019\n",
       "\tBTC_Att_LCA\n",
       "\tBTC_LCA\n",
       "\tdefault\n",
       "Use `projects.report()` to get a report on all projects."
      ]
     },
     "execution_count": 3,
     "metadata": {},
     "output_type": "execute_result"
    }
   ],
   "source": [
    "projects"
   ]
  },
  {
   "cell_type": "code",
   "execution_count": null,
   "metadata": {},
   "outputs": [],
   "source": [
    "#upload consequential ecoinvent v3.5 database (& change directory to find the file on your computer)\n",
    "fpei34  = \"/Users/susanne/Documents/O1a/Databases/Ecoinvent_conseq_3.5/datasets\"\n",
    " \n",
    "if 'ecoinvent 3.5 conseq' in databases:\n",
    "     print(\"Database has already been imported\")\n",
    "else:\n",
    "     ei34 = SingleOutputEcospold2Importer(fpei34, 'ecoinvent 3.5 conseq')\n",
    "     ei34.apply_strategies()\n",
    "     ei34.statistics()\n",
    " \n",
    "ei34.write_database()"
   ]
  },
  {
   "cell_type": "code",
   "execution_count": null,
   "metadata": {},
   "outputs": [],
   "source": [
    "bw2setup() # do this if its the first time only"
   ]
  },
  {
   "cell_type": "code",
   "execution_count": 4,
   "metadata": {
    "scrolled": false
   },
   "outputs": [
    {
     "data": {
      "text/plain": [
       "Databases dictionary with 6 object(s):\n",
       "\tBAU\n",
       "\tbiosphere3\n",
       "\tecoinvent 3.5 conseq\n",
       "\tefficiency\n",
       "\tlocation\n",
       "\tlocation&efficiency"
      ]
     },
     "execution_count": 4,
     "metadata": {},
     "output_type": "execute_result"
    }
   ],
   "source": [
    "databases"
   ]
  },
  {
   "cell_type": "markdown",
   "metadata": {},
   "source": [
    "## Data import"
   ]
  },
  {
   "cell_type": "markdown",
   "metadata": {},
   "source": [
    "Upload Baseline Scenario (BAU) and creating a dictionary for it. "
   ]
  },
  {
   "cell_type": "code",
   "execution_count": 5,
   "metadata": {},
   "outputs": [],
   "source": [
    "BAU = pd.read_csv('BAU.csv', header = 0, sep = \",\", encoding = 'utf-8-sig') \n",
    "\n",
    "# clean up \n",
    "BAU = BAU.drop(['Notes'], 1)  # remove the columns not needed\n",
    "BAU['Exchange uncertainty type'] = BAU['Exchange uncertainty type'].fillna(0).astype(int) "
   ]
  },
  {
   "cell_type": "code",
   "execution_count": 6,
   "metadata": {},
   "outputs": [],
   "source": [
    "BAU_dict = lci_to_bw2(BAU)"
   ]
  },
  {
   "cell_type": "code",
   "execution_count": 7,
   "metadata": {},
   "outputs": [
    {
     "name": "stderr",
     "output_type": "stream",
     "text": [
      "Writing activities to SQLite3 database:\n",
      "0% [##############################] 100% | ETA: 00:00:00\n",
      "Total time elapsed: 00:00:00\n"
     ]
    },
    {
     "name": "stdout",
     "output_type": "stream",
     "text": [
      "Title: Writing activities to SQLite3 database:\n",
      "  Started: 09/08/2020 14:27:30\n",
      "  Finished: 09/08/2020 14:27:30\n",
      "  Total time elapsed: 00:00:00\n",
      "  CPU %: 52.00\n",
      "  Memory %: 0.95\n"
     ]
    }
   ],
   "source": [
    "# Write a bw2 database\n",
    "databases\n",
    "if 'BAU' in databases: del databases['BAU']\n",
    "BAU = Database(\"BAU\")\n",
    "BAU.write(BAU_dict)"
   ]
  },
  {
   "cell_type": "markdown",
   "metadata": {},
   "source": [
    "Upload Scenario 1 (location-sensitive) and creating a dictionary for it. "
   ]
  },
  {
   "cell_type": "code",
   "execution_count": 8,
   "metadata": {},
   "outputs": [],
   "source": [
    "location = pd.read_csv('Scenario_1_location.csv', header = 0, sep = \",\", encoding = 'utf-8-sig') \n",
    "\n",
    "# clean up \n",
    "location = location.drop(['Notes'], 1)  # remove the columns not needed\n",
    "location['Exchange uncertainty type'] = location['Exchange uncertainty type'].fillna(0).astype(int) "
   ]
  },
  {
   "cell_type": "code",
   "execution_count": 9,
   "metadata": {},
   "outputs": [],
   "source": [
    "location_dict = lci_to_bw2(location)"
   ]
  },
  {
   "cell_type": "code",
   "execution_count": 10,
   "metadata": {},
   "outputs": [
    {
     "name": "stderr",
     "output_type": "stream",
     "text": [
      "Writing activities to SQLite3 database:\n",
      "0% [##################] 100% | ETA: 00:00:00\n",
      "Total time elapsed: 00:00:00\n"
     ]
    },
    {
     "name": "stdout",
     "output_type": "stream",
     "text": [
      "Title: Writing activities to SQLite3 database:\n",
      "  Started: 09/08/2020 14:27:35\n",
      "  Finished: 09/08/2020 14:27:35\n",
      "  Total time elapsed: 00:00:00\n",
      "  CPU %: 62.80\n",
      "  Memory %: 0.95\n"
     ]
    }
   ],
   "source": [
    "# Write a bw2 database\n",
    "databases\n",
    "if 'location' in databases: del databases['location']\n",
    "location = Database(\"location\")\n",
    "location.write(location_dict)"
   ]
  },
  {
   "cell_type": "markdown",
   "metadata": {},
   "source": [
    "Upload Scenario 2 (equipment-sensitive) and creating a dictionary for it. "
   ]
  },
  {
   "cell_type": "code",
   "execution_count": 14,
   "metadata": {},
   "outputs": [],
   "source": [
    "efficiency = pd.read_csv('Scenario_2_efficiency.csv', header = 0, sep = \",\", encoding = 'utf-8-sig') \n",
    "\n",
    "# clean up \n",
    "efficiency = efficiency.drop(['Notes'], 1)  # remove the columns not needed\n",
    "efficiency['Exchange uncertainty type'] = efficiency['Exchange uncertainty type'].fillna(0).astype(int) "
   ]
  },
  {
   "cell_type": "code",
   "execution_count": 15,
   "metadata": {},
   "outputs": [],
   "source": [
    "efficiency_dict = lci_to_bw2(efficiency)"
   ]
  },
  {
   "cell_type": "code",
   "execution_count": 16,
   "metadata": {},
   "outputs": [
    {
     "name": "stderr",
     "output_type": "stream",
     "text": [
      "Writing activities to SQLite3 database:\n",
      "0% [##############################] 100% | ETA: 00:00:00\n",
      "Total time elapsed: 00:00:00\n"
     ]
    },
    {
     "name": "stdout",
     "output_type": "stream",
     "text": [
      "Title: Writing activities to SQLite3 database:\n",
      "  Started: 09/08/2020 14:27:50\n",
      "  Finished: 09/08/2020 14:27:50\n",
      "  Total time elapsed: 00:00:00\n",
      "  CPU %: 35.60\n",
      "  Memory %: 0.96\n"
     ]
    }
   ],
   "source": [
    "# Write a bw2 database\n",
    "databases\n",
    "if 'efficiency' in databases: del databases['efficiency']\n",
    "efficiency = Database(\"efficiency\")\n",
    "efficiency.write(efficiency_dict)"
   ]
  },
  {
   "cell_type": "markdown",
   "metadata": {},
   "source": [
    "Upload Scenario 3 (increased efficiency and only new locations) and creating a dictionary for it. "
   ]
  },
  {
   "cell_type": "code",
   "execution_count": 17,
   "metadata": {},
   "outputs": [],
   "source": [
    "location_efficiency = pd.read_csv('Scenario_3_location&efficiency.csv', header = 0, sep = \",\", encoding = 'utf-8-sig') \n",
    "\n",
    "# clean up \n",
    "location_efficiency = location_efficiency.drop(['Notes'], 1)  # remove the columns not needed\n",
    "location_efficiency['Exchange uncertainty type'] = location_efficiency['Exchange uncertainty type'].fillna(0).astype(int) "
   ]
  },
  {
   "cell_type": "code",
   "execution_count": 18,
   "metadata": {},
   "outputs": [],
   "source": [
    "location_efficiency_dict = lci_to_bw2(location_efficiency)"
   ]
  },
  {
   "cell_type": "code",
   "execution_count": 19,
   "metadata": {},
   "outputs": [
    {
     "name": "stderr",
     "output_type": "stream",
     "text": [
      "Writing activities to SQLite3 database:\n",
      "0% [##################] 100% | ETA: 00:00:00\n",
      "Total time elapsed: 00:00:00\n"
     ]
    },
    {
     "name": "stdout",
     "output_type": "stream",
     "text": [
      "Title: Writing activities to SQLite3 database:\n",
      "  Started: 09/08/2020 14:27:53\n",
      "  Finished: 09/08/2020 14:27:53\n",
      "  Total time elapsed: 00:00:00\n",
      "  CPU %: 77.70\n",
      "  Memory %: 0.96\n"
     ]
    }
   ],
   "source": [
    "# Write a bw2 database\n",
    "databases\n",
    "if 'location&efficiency' in databases: del databases['location&efficiency']\n",
    "location_efficiency = Database(\"location&efficiency\")\n",
    "location_efficiency.write(location_efficiency_dict)"
   ]
  },
  {
   "cell_type": "markdown",
   "metadata": {},
   "source": [
    "## Static LCA"
   ]
  },
  {
   "cell_type": "code",
   "execution_count": 20,
   "metadata": {},
   "outputs": [
    {
     "data": {
      "text/plain": [
       "('IPCC 2013', 'climate change', 'GWP 100a')"
      ]
     },
     "execution_count": 20,
     "metadata": {},
     "output_type": "execute_result"
    }
   ],
   "source": [
    "mymethod = ('IPCC 2013', 'climate change', 'GWP 100a')\n",
    "mymethod"
   ]
  },
  {
   "cell_type": "code",
   "execution_count": 21,
   "metadata": {},
   "outputs": [],
   "source": [
    "acts_BAU = []\n",
    "for activity in Database(\"BAU\"):\n",
    "        acts_BAU.append(activity['name'])\n",
    "acts_BAU.sort()\n",
    "\n",
    "acts_efficiency = []\n",
    "for activity in Database(\"efficiency\"):\n",
    "        acts_efficiency.append(activity['name'])\n",
    "acts_efficiency.sort()\n",
    "\n",
    "acts_location = []\n",
    "for activity in Database(\"location\"):\n",
    "        acts_location.append(activity['name'])\n",
    "acts_location.sort()\n",
    "\n",
    "acts_location_efficiency = []\n",
    "for activity in Database(\"location&efficiency\"):\n",
    "        acts_location_efficiency.append(activity['name'])\n",
    "acts_location_efficiency.sort()"
   ]
  },
  {
   "cell_type": "code",
   "execution_count": 22,
   "metadata": {},
   "outputs": [],
   "source": [
    "myact_BAU = Database('BAU').get(acts_BAU[0])\n",
    "myact_efficiency = Database('efficiency').get(acts_efficiency[0])\n",
    "myact_location = Database('location').get(acts_location[0])\n",
    "myact_location_efficiency = Database('location&efficiency').get(acts_location_efficiency[0])"
   ]
  },
  {
   "cell_type": "code",
   "execution_count": 23,
   "metadata": {
    "scrolled": true
   },
   "outputs": [
    {
     "name": "stdout",
     "output_type": "stream",
     "text": [
      "The carbon footprints using IPCC 2013 for 1 TH are:\n",
      "1.2396023369267433e-05 kg CO2-eq for the baseline scenario (BAU)\n",
      "1.6185112903746263e-05 kg CO2-eq for the 1st scenario (location)\n",
      "6.430004997169447e-06 kg CO2-eq for the 2nd scenario (efficiency)\n",
      "8.395968372421257e-06 kg CO2-eq for the 3rd scenario (location & efficiency)\n"
     ]
    }
   ],
   "source": [
    "FU_BAU = {myact_BAU: 1} \n",
    "lca_BAU = LCA(FU_BAU, mymethod)\n",
    "lca_BAU.lci()\n",
    "lca_BAU.lcia()\n",
    "\n",
    "FU_efficiency = {myact_efficiency: 1} \n",
    "lca_efficiency = LCA(FU_efficiency, mymethod)\n",
    "lca_efficiency.lci()\n",
    "lca_efficiency.lcia()\n",
    "\n",
    "FU_location = {myact_location: 1} \n",
    "lca_location = LCA(FU_location, mymethod)\n",
    "lca_location.lci()\n",
    "lca_location.lcia()\n",
    "\n",
    "FU_location_efficiency = {myact_location_efficiency: 1} \n",
    "lca_location_efficiency = LCA(FU_location_efficiency, mymethod)\n",
    "lca_location_efficiency.lci()\n",
    "lca_location_efficiency.lcia()\n",
    "\n",
    "print(\"The carbon footprints using IPCC 2013 for 1 TH are:\")\n",
    "print(\"{} kg CO2-eq for the baseline scenario (BAU)\".format(lca_BAU.score))\n",
    "print(\"{} kg CO2-eq for the 1st scenario (location)\".format(lca_location.score))\n",
    "print(\"{} kg CO2-eq for the 2nd scenario (efficiency)\".format(lca_efficiency.score))\n",
    "print(\"{} kg CO2-eq for the 3rd scenario (location & efficiency)\".format(lca_location_efficiency.score))"
   ]
  },
  {
   "cell_type": "code",
   "execution_count": null,
   "metadata": {},
   "outputs": [],
   "source": []
  }
 ],
 "metadata": {
  "kernelspec": {
   "display_name": "Python 3",
   "language": "python",
   "name": "python3"
  },
  "language_info": {
   "codemirror_mode": {
    "name": "ipython",
    "version": 3
   },
   "file_extension": ".py",
   "mimetype": "text/x-python",
   "name": "python",
   "nbconvert_exporter": "python",
   "pygments_lexer": "ipython3",
   "version": "3.6.9"
  }
 },
 "nbformat": 4,
 "nbformat_minor": 2
}
