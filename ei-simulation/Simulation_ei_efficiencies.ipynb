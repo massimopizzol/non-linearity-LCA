{
 "cells": [
  {
   "cell_type": "code",
   "execution_count": 43,
   "metadata": {},
   "outputs": [],
   "source": [
    "# Data manipulation\n",
    "import pandas as pd\n",
    "import numpy as np\n",
    "\n",
    "# Options for pandas\n",
    "pd.options.display.max_columns = 50\n",
    "pd.options.display.max_rows = 30\n",
    "\n",
    "import matplotlib.pyplot as plt\n",
    "\n",
    "# Autoreload extension\n",
    "if 'autoreload' not in get_ipython().extension_manager.loaded:\n",
    "    %load_ext autoreload\n",
    "    \n",
    "%autoreload 2"
   ]
  },
  {
   "cell_type": "code",
   "execution_count": 44,
   "metadata": {},
   "outputs": [],
   "source": [
    "import brightway2 as bw"
   ]
  },
  {
   "cell_type": "code",
   "execution_count": 3,
   "metadata": {},
   "outputs": [],
   "source": [
    "bw.projects.set_current('non-linearity')"
   ]
  },
  {
   "cell_type": "code",
   "execution_count": 45,
   "metadata": {},
   "outputs": [
    {
     "data": {
      "text/plain": [
       "Databases dictionary with 22 objects, including:\n",
       "\tbiosphere3\n",
       "\tcutoff35\n",
       "\tecoinvent 3.6 cutoff\n",
       "\tecoinvent_SSP2-Base_2015\n",
       "\tecoinvent_SSP2-Base_2028\n",
       "\tecoinvent_SSP2-Base_2030\n",
       "\tecoinvent_SSP2-Base_2040\n",
       "\tecoinvent_SSP2-Base_2045\n",
       "\tecoinvent_SSP2_Baseline_newIndustry_2015\n",
       "\tecoinvent_SSP2_Baseline_newIndustry_2020\n",
       "Use `list(this object)` to get the complete list."
      ]
     },
     "execution_count": 45,
     "metadata": {},
     "output_type": "execute_result"
    }
   ],
   "source": [
    "bw.projects.set_current(\"remind_36\")\n",
    "bw.databases"
   ]
  },
  {
   "cell_type": "code",
   "execution_count": 46,
   "metadata": {},
   "outputs": [],
   "source": [
    "mydb = bw.Database('ecoinvent 3.6 conseq_q')\n",
    "mydb = bw.Database('ecoinvent 3.6 cutoff')"
   ]
  },
  {
   "cell_type": "code",
   "execution_count": 47,
   "metadata": {},
   "outputs": [],
   "source": [
    "#to select only transforming activities later\n",
    "transf_act = [act for act in mydb \n",
    "                    if 'ordinary transforming activity' in act['activity type'] \n",
    "             \n",
    "     ]"
   ]
  },
  {
   "cell_type": "code",
   "execution_count": 48,
   "metadata": {},
   "outputs": [],
   "source": [
    "FU = [{mydb.random():1} for act in range(50)]"
   ]
  },
  {
   "cell_type": "code",
   "execution_count": 49,
   "metadata": {},
   "outputs": [],
   "source": [
    "from scipy.sparse import csr_matrix"
   ]
  },
  {
   "cell_type": "code",
   "execution_count": 67,
   "metadata": {},
   "outputs": [
    {
     "name": "stdout",
     "output_type": "stream",
     "text": [
      "0\n",
      "1\n",
      "2\n",
      "3\n",
      "4\n",
      "5\n",
      "6\n",
      "7\n",
      "8\n",
      "9\n"
     ]
    }
   ],
   "source": [
    "mymethod = ('IPCC 2013', 'climate change', 'GWP 100a')\n",
    "\n",
    "#this was the original code \n",
    "\n",
    "l_res = []\n",
    "\n",
    "# we iterate 10 times\n",
    "for x in range(0, 10): \n",
    "    \n",
    "    LCA = bw.LCA(FU[0], mymethod)\n",
    "    LCA.lci()\n",
    "    LCA.lcia()\n",
    "    \n",
    "    # retrieve the coordinates of transforming activities\n",
    "    transf_col = [LCA.activity_dict[a] for a in transf_act]\n",
    "    \n",
    "    # retrieve a sliced copy of the A matrix\n",
    "    # convert it to a numpy array\n",
    "    # as it is not possible to manipulate when in sparse format\n",
    "    arr = LCA.technosphere_matrix[\n",
    "        np.ix_([c for c in range(0, LCA.technosphere_matrix.shape[0]) if c not in transf_col],\n",
    "               transf_col)].toarray()\n",
    "    \n",
    "    # generate random coefficients the size of the second dimension of `arr`\n",
    "    # as we want the random coeffecient to apply column-wise (the same coeff for all inputs of a given column)\n",
    "    coeff = np.random.random_sample((arr.shape[0]))\n",
    "    \n",
    "    # multiple the array by the random coefficients\n",
    "    arr *= coeff.reshape(-1,1)\n",
    "    \n",
    "    # convert the array back as a sparse matrix\n",
    "    arr = csr_matrix(arr)\n",
    "    \n",
    "    # update A matrix inputs with new numbers\n",
    "    LCA.technosphere_matrix[\n",
    "        np.ix_([c for c in range(0, LCA.technosphere_matrix.shape[0]) if c not in transf_col],\n",
    "               transf_col)] = arr\n",
    "    \n",
    "    print(x)\n",
    "    \n",
    "    for j, fu in enumerate(FU):\n",
    "        LCA.redo_lci(fu)\n",
    "        LCA.lcia()\n",
    "        l_res.append((list(fu.keys())[0][\"name\"], LCA.score))"
   ]
  },
  {
   "cell_type": "code",
   "execution_count": 68,
   "metadata": {},
   "outputs": [
    {
     "data": {
      "text/plain": [
       "[('market for room-connecting overflow element, steel, approx. 40 m3/h',\n",
       "  1.3522922800186536),\n",
       " ('market for room-connecting overflow element, steel, approx. 40 m3/h',\n",
       "  1.0948579325713181),\n",
       " ('market for room-connecting overflow element, steel, approx. 40 m3/h',\n",
       "  0.749543470057513),\n",
       " ('market for room-connecting overflow element, steel, approx. 40 m3/h',\n",
       "  1.0524796797150393),\n",
       " ('market for room-connecting overflow element, steel, approx. 40 m3/h',\n",
       "  0.45649757496317045),\n",
       " ('market for room-connecting overflow element, steel, approx. 40 m3/h',\n",
       "  0.9566997756445961),\n",
       " ('market for room-connecting overflow element, steel, approx. 40 m3/h',\n",
       "  1.1409637823133003),\n",
       " ('market for room-connecting overflow element, steel, approx. 40 m3/h',\n",
       "  0.7241328450725582),\n",
       " ('market for room-connecting overflow element, steel, approx. 40 m3/h',\n",
       "  1.2351348714320818),\n",
       " ('market for room-connecting overflow element, steel, approx. 40 m3/h',\n",
       "  0.6190062473647335)]"
      ]
     },
     "execution_count": 68,
     "metadata": {},
     "output_type": "execute_result"
    }
   ],
   "source": [
    "[res for res in l_res if \"room-connecting\" in res[0]]"
   ]
  },
  {
   "cell_type": "code",
   "execution_count": 23,
   "metadata": {},
   "outputs": [
    {
     "name": "stdout",
     "output_type": "stream",
     "text": [
      "0\n",
      "5844.426918696024\n",
      "[15195, 1578, 8875]\n",
      "\n",
      "\n",
      "(5499, 10963)\n",
      "1\n",
      "5844.426918696024\n",
      "[15195, 1578, 8875]\n",
      "\n",
      "\n",
      "(5499, 10963)\n"
     ]
    }
   ],
   "source": [
    "#this is where we were trying to change\n",
    "\n",
    "for i in range(0,2):\n",
    "    print(i)\n",
    "    LCA = bw.LCA(FU[0], ('IPCC 2013', 'climate change', 'GWP 100a'))\n",
    "    LCA.lci()\n",
    "    LCA.lcia()\n",
    "    print(LCA.score)\n",
    "    transf_col = [LCA.activity_dict[a] for a in transf_act]\n",
    "    print(transf_col[0:3])\n",
    "    \n",
    "    matrix_values = LCA.technosphere_matrix[\n",
    "        np.ix_([c for c in range(0, LCA.technosphere_matrix.shape[0]) if c not in transf_col],\n",
    "               transf_col)] \n",
    "    #print(matrix_values[0:3])\n",
    "    \n",
    "    print(matrix_values[1])\n",
    "    print(matrix_values[1] * random.uniform(0,1))\n",
    "    print(matrix_values.shape)\n",
    "    #for i in matrix_values:\n",
    "     #   matrix_values[i] = value * random.uniform(0,1)\n",
    "        \n",
    "    #print(matrix_values[0:3])\n",
    "        \n",
    "  "
   ]
  },
  {
   "cell_type": "code",
   "execution_count": 24,
   "metadata": {},
   "outputs": [],
   "source": [
    "import random\n",
    "from random import randrange"
   ]
  },
  {
   "cell_type": "code",
   "execution_count": 25,
   "metadata": {},
   "outputs": [
    {
     "data": {
      "text/plain": [
       "0.5175669814007158"
      ]
     },
     "execution_count": 25,
     "metadata": {},
     "output_type": "execute_result"
    }
   ],
   "source": [
    "random.uniform(0,1)"
   ]
  },
  {
   "cell_type": "code",
   "execution_count": 26,
   "metadata": {},
   "outputs": [
    {
     "data": {
      "text/plain": [
       "<5x16462 sparse matrix of type '<class 'numpy.float64'>'\n",
       "\twith 11 stored elements in Compressed Sparse Row format>"
      ]
     },
     "execution_count": 26,
     "metadata": {},
     "output_type": "execute_result"
    }
   ],
   "source": [
    "LCA.technosphere_matrix[0:5]"
   ]
  },
  {
   "cell_type": "code",
   "execution_count": 27,
   "metadata": {},
   "outputs": [
    {
     "data": {
      "text/plain": [
       "array([[    4],\n",
       "       [    6],\n",
       "       [    9],\n",
       "       ...,\n",
       "       [16448],\n",
       "       [16451],\n",
       "       [16458]])"
      ]
     },
     "execution_count": 27,
     "metadata": {},
     "output_type": "execute_result"
    }
   ],
   "source": [
    "np.ix_([c for c in range(0, LCA.technosphere_matrix.shape[0]) if c not in transf_col],\n",
    "               transf_col)[0]"
   ]
  },
  {
   "cell_type": "code",
   "execution_count": 28,
   "metadata": {},
   "outputs": [
    {
     "name": "stdout",
     "output_type": "stream",
     "text": [
      "  (0, 5467)\t1.275823137802945e-06\n",
      "  (0, 3760)\t1.2956618320458801e-06\n",
      "  (0, 7749)\t0.00021740766533184797\n",
      "  (0, 1666)\t1.0298266683861357e-09\n"
     ]
    }
   ],
   "source": [
    "print(matrix_values[2])"
   ]
  },
  {
   "cell_type": "code",
   "execution_count": 29,
   "metadata": {},
   "outputs": [
    {
     "name": "stdout",
     "output_type": "stream",
     "text": [
      "  (0, 8968)\t-0.4000000059604645\n",
      "  (0, 9279)\t-0.4000000059604645\n",
      "  (0, 8968)\t-4.000000059604645\n",
      "  (0, 9279)\t-4.000000059604645\n",
      "\n",
      "\n",
      "  (0, 5467)\t1.275823137802945e-06\n",
      "  (0, 3760)\t1.2956618320458801e-06\n",
      "  (0, 7749)\t0.00021740766533184797\n",
      "  (0, 1666)\t1.0298266683861357e-09\n",
      "  (0, 5467)\t1.275823137802945e-05\n",
      "  (0, 3760)\t1.2956618320458801e-05\n",
      "  (0, 7749)\t0.0021740766533184797\n",
      "  (0, 1666)\t1.0298266683861357e-08\n",
      "\n",
      "\n"
     ]
    }
   ],
   "source": [
    "for i in matrix_values[0:4]:\n",
    "    for j in i:\n",
    "        print(j)\n",
    "        print(j*10)"
   ]
  },
  {
   "cell_type": "code",
   "execution_count": 30,
   "metadata": {},
   "outputs": [
    {
     "ename": "TypeError",
     "evalue": "'csr_matrix' object is not callable",
     "output_type": "error",
     "traceback": [
      "\u001b[1;31m---------------------------------------------------------------------------\u001b[0m",
      "\u001b[1;31mTypeError\u001b[0m                                 Traceback (most recent call last)",
      "\u001b[1;32m<ipython-input-30-2a38d1d699bb>\u001b[0m in \u001b[0;36m<module>\u001b[1;34m\u001b[0m\n\u001b[1;32m----> 1\u001b[1;33m \u001b[0mmatrix_values\u001b[0m\u001b[1;33m(\u001b[0m\u001b[1;36m0\u001b[0m\u001b[1;33m,\u001b[0m\u001b[1;36m6148\u001b[0m\u001b[1;33m)\u001b[0m\u001b[1;33m\u001b[0m\u001b[1;33m\u001b[0m\u001b[0m\n\u001b[0m",
      "\u001b[1;31mTypeError\u001b[0m: 'csr_matrix' object is not callable"
     ]
    }
   ],
   "source": [
    "matrix_values(0,6148)"
   ]
  },
  {
   "cell_type": "code",
   "execution_count": 31,
   "metadata": {},
   "outputs": [
    {
     "ename": "NameError",
     "evalue": "name 'a' is not defined",
     "output_type": "error",
     "traceback": [
      "\u001b[1;31m---------------------------------------------------------------------------\u001b[0m",
      "\u001b[1;31mNameError\u001b[0m                                 Traceback (most recent call last)",
      "\u001b[1;32m<ipython-input-31-accd373352c3>\u001b[0m in \u001b[0;36m<module>\u001b[1;34m\u001b[0m\n\u001b[1;32m----> 1\u001b[1;33m \u001b[0ma\u001b[0m\u001b[1;33m[\u001b[0m\u001b[1;36m1\u001b[0m\u001b[1;33m,\u001b[0m \u001b[1;33m:\u001b[0m\u001b[1;33m]\u001b[0m\u001b[1;33m.\u001b[0m\u001b[0mtoarray\u001b[0m\u001b[1;33m(\u001b[0m\u001b[1;33m)\u001b[0m\u001b[1;33m\u001b[0m\u001b[1;33m\u001b[0m\u001b[0m\n\u001b[0m",
      "\u001b[1;31mNameError\u001b[0m: name 'a' is not defined"
     ]
    }
   ],
   "source": [
    "a[1, :].toarray()"
   ]
  },
  {
   "cell_type": "code",
   "execution_count": 32,
   "metadata": {},
   "outputs": [],
   "source": [
    "bbb = matrix_values[0, :].toarray()"
   ]
  },
  {
   "cell_type": "code",
   "execution_count": 33,
   "metadata": {},
   "outputs": [
    {
     "ename": "IndexError",
     "evalue": "index 2 is out of bounds for axis 0 with size 1",
     "output_type": "error",
     "traceback": [
      "\u001b[1;31m---------------------------------------------------------------------------\u001b[0m",
      "\u001b[1;31mIndexError\u001b[0m                                Traceback (most recent call last)",
      "\u001b[1;32m<ipython-input-33-2bbb0bbbb977>\u001b[0m in \u001b[0;36m<module>\u001b[1;34m\u001b[0m\n\u001b[1;32m----> 1\u001b[1;33m \u001b[0mprint\u001b[0m\u001b[1;33m(\u001b[0m\u001b[0mbbb\u001b[0m\u001b[1;33m[\u001b[0m\u001b[1;36m2\u001b[0m\u001b[1;33m,\u001b[0m\u001b[1;36m2\u001b[0m\u001b[1;33m]\u001b[0m\u001b[1;33m)\u001b[0m\u001b[1;33m\u001b[0m\u001b[1;33m\u001b[0m\u001b[0m\n\u001b[0m",
      "\u001b[1;31mIndexError\u001b[0m: index 2 is out of bounds for axis 0 with size 1"
     ]
    }
   ],
   "source": [
    "print(bbb[2,2])"
   ]
  },
  {
   "cell_type": "code",
   "execution_count": null,
   "metadata": {},
   "outputs": [],
   "source": []
  },
  {
   "cell_type": "code",
   "execution_count": null,
   "metadata": {},
   "outputs": [],
   "source": []
  },
  {
   "cell_type": "code",
   "execution_count": 54,
   "metadata": {
    "collapsed": true
   },
   "outputs": [
    {
     "name": "stdout",
     "output_type": "stream",
     "text": [
      "                                                                                  GWP\n",
      "Name                                               Efficiency increase (%)           \n",
      "calcined clay to generic market for supplementa... 42.857143                 0.168285\n",
      "clear-cutting, primary forest to arable land, p... 42.857143                62.723173\n",
      "contouring, bronze                                 42.857143                 0.173908\n",
      "copper production, primary                         42.857143                 2.777568\n",
      "electricity production, oil                        42.857143                 1.191101\n",
      "...                                                                               ...\n",
      "treatment of waste polyethylene, municipal inci... 42.857143                -2.990626\n",
      "treatment of waste polystyrene, open dump, mois... 42.857143                -0.150363\n",
      "water pump operation, diesel                       42.857143                 0.083285\n",
      "white asparagus production                         42.857143                 0.998859\n",
      "zinc sulfide production                            42.857143                 1.607999\n",
      "\n",
      "[49 rows x 1 columns]\n"
     ]
    }
   ],
   "source": [
    "#this is all old stuff, ignore here and below\n",
    "print(res) "
   ]
  },
  {
   "cell_type": "code",
   "execution_count": 12,
   "metadata": {},
   "outputs": [
    {
     "data": {
      "text/plain": [
       "(42.85714285714284,\n",
       " 'treatment of waste polyethylene, municipal incineration',\n",
       " -2.990626113935787)"
      ]
     },
     "execution_count": 12,
     "metadata": {},
     "output_type": "execute_result"
    }
   ],
   "source": [
    "random.choice(l_res) #how can you select fx 50 items from this list?"
   ]
  },
  {
   "cell_type": "code",
   "execution_count": 13,
   "metadata": {},
   "outputs": [
    {
     "data": {
      "text/plain": [
       "[(233.33333333333317,\n",
       "  'laser machining, metal, with CO2-laser, 2700W power',\n",
       "  0.7318252079855012),\n",
       " (399.99999999999955,\n",
       "  'primary zinc production from concentrate',\n",
       "  0.3587326692347461),\n",
       " (233.33333333333317,\n",
       "  'primary zinc production from concentrate',\n",
       "  0.5246377611356899),\n",
       " (149.99999999999991, 'orbencarb production', 3.3694353884027546),\n",
       " (233.33333333333317,\n",
       "  'market for electricity, low voltage',\n",
       "  0.04824485242772918),\n",
       " (25.0,\n",
       "  'electricity voltage transformation from high to medium voltage',\n",
       "  0.04360740335045067),\n",
       " (0.0, 'white asparagus production', 1.8753142431840586),\n",
       " (99.99999999999996,\n",
       "  'electricity production, photovoltaic, 3kWp slanted-roof installation, multi-Si, panel, mounted',\n",
       "  0.0018236119730362904),\n",
       " (0.0, 'treatment of decommissioned road', -0.03354304313437791),\n",
       " (25.0,\n",
       "  'electricity voltage transformation from high to medium voltage',\n",
       "  0.10795453173352149),\n",
       " (25.0,\n",
       "  'market for construction work, heat and power co-generation unit, 160kW electrical',\n",
       "  2259.433851542886),\n",
       " (149.99999999999991,\n",
       "  'market for construction work, heat and power co-generation unit, 160kW electrical',\n",
       "  658.8803458207107),\n",
       " (149.99999999999991,\n",
       "  'treatment of biowaste, industrial composting',\n",
       "  -0.0365178679730594),\n",
       " (25.0, 'treatment of waste glass, open burning', -0.32170616999168056),\n",
       " (149.99999999999991,\n",
       "  'treatment of decommissioned road',\n",
       "  -0.010817465826764273),\n",
       " (149.99999999999991,\n",
       "  'treatment of waste paperboard, inert material landfill',\n",
       "  -0.0012911493240268667),\n",
       " (0.0, 'orbencarb production', 10.346504117464226),\n",
       " (66.66666666666666,\n",
       "  'electricity production, photovoltaic, 570kWp open ground installation, multi-Si',\n",
       "  0.00469916816915801),\n",
       " (399.99999999999955,\n",
       "  'market for wood chips and particles, willow',\n",
       "  0.009982269192378265),\n",
       " (99.99999999999996, 'market for ethylenediamine', 1.3095155116679458),\n",
       " (399.99999999999955,\n",
       "  'market for electricity, low voltage',\n",
       "  0.02174640103813932),\n",
       " (66.66666666666666,\n",
       "  'treatment of waste glass, open burning',\n",
       "  -0.32170616999168056),\n",
       " (233.33333333333317, 'market for inverter, 0.5kW', 1.8924312072286622),\n",
       " (399.99999999999955, 'market for inverter, 0.5kW', 0.8976040789252311),\n",
       " (25.0,\n",
       "  'market for land tenure, arable land, measured as carbon net primary productivity, annual crop',\n",
       "  65.20506413363132),\n",
       " (11.111111111111116,\n",
       "  'nuclear fuel element production, for pressure water reactor, UO2 4.0% & MOX',\n",
       "  1559.4187988880062),\n",
       " (149.99999999999991,\n",
       "  'electricity voltage transformation from high to medium voltage',\n",
       "  0.01879759980878789),\n",
       " (11.111111111111116, 'contouring, bronze', 0.35049294462065556),\n",
       " (42.85714285714284,\n",
       "  'market for mine infrastructure, underground, hard coal',\n",
       "  69542554.03134994),\n",
       " (66.66666666666666, 'market for fish curing, small fish', 1.3847006425392834),\n",
       " (42.85714285714284, 'market for ethylenediamine', 2.362903730697063),\n",
       " (25.0, 'oil mill construction', 3071109.8416605764),\n",
       " (11.111111111111116,\n",
       "  'land already in use, annual cropland to perennial crop',\n",
       "  -6.107684135437012),\n",
       " (233.33333333333317,\n",
       "  'heat and power co-generation, natural gas, conventional power plant, 100MW electrical',\n",
       "  0.13226932845554343),\n",
       " (11.111111111111116,\n",
       "  'electricity production, photovoltaic, 3kWp slanted-roof installation, multi-Si, panel, mounted',\n",
       "  0.04577324949082524),\n",
       " (399.99999999999955,\n",
       "  'clear-cutting, primary forest to arable land, perennial crop',\n",
       "  62.48133184287923),\n",
       " (0.0,\n",
       "  'treatment of waste polystyrene, open dump, moist infiltration class (300mm)',\n",
       "  -0.15036295753151485),\n",
       " (149.99999999999991, 'market for lime, packed', 0.011326207188915784),\n",
       " (11.111111111111116,\n",
       "  'treatment of waste paperboard, inert material landfill',\n",
       "  -0.0034811085572142744),\n",
       " (233.33333333333317,\n",
       "  'sodium dithionite production, anhydrous',\n",
       "  0.30757175409833376),\n",
       " (399.99999999999955,\n",
       "  'electricity production, wind, >3MW turbine, onshore',\n",
       "  8.778291626796605e-05),\n",
       " (233.33333333333317,\n",
       "  'market for methane, 96% by volume, from biogas, from low pressure network, at service station',\n",
       "  0.15016159649715302),\n",
       " (0.0, 'treatment of used trawler, steel', 2.8008632214360842),\n",
       " (42.85714285714284,\n",
       "  'sodium dithionite production, anhydrous',\n",
       "  1.2339047314107279),\n",
       " (25.0, 'market for waste polyvinylchloride', -0.9350370200682212),\n",
       " (233.33333333333317,\n",
       "  'market for waste polyvinylchloride',\n",
       "  -1.0752982646200855),\n",
       " (25.0, 'contouring, bronze', 0.24488712098368223),\n",
       " (149.99999999999991,\n",
       "  'electricity production, wind, >3MW turbine, onshore',\n",
       "  0.0007087539427044395),\n",
       " (99.99999999999996, 'contouring, bronze', 0.08844779266093329),\n",
       " (99.99999999999996,\n",
       "  'treatment of waste glass, open burning',\n",
       "  -0.32170616999168056)]"
      ]
     },
     "execution_count": 13,
     "metadata": {},
     "output_type": "execute_result"
    }
   ],
   "source": [
    "random.sample(l_res, 50) #taking a random sample of 50 exchanges. "
   ]
  },
  {
   "cell_type": "code",
   "execution_count": 14,
   "metadata": {},
   "outputs": [],
   "source": [
    "rand = random.sample(l_res, 50)"
   ]
  },
  {
   "cell_type": "code",
   "execution_count": 15,
   "metadata": {},
   "outputs": [],
   "source": [
    "acts = pd.DataFrame(rand, columns=['Efficiency increase (%)', 'Name', 'GWP'])\\\n",
    "    .groupby([\"Name\", \"Efficiency increase (%)\"])[[\"GWP\"]].sum()"
   ]
  },
  {
   "cell_type": "code",
   "execution_count": 16,
   "metadata": {},
   "outputs": [
    {
     "name": "stdout",
     "output_type": "stream",
     "text": [
      "                                                                                  GWP\n",
      "Name                                               Efficiency increase (%)           \n",
      "calcined clay to generic market for supplementa... 66.666667                 0.136502\n",
      "clear-cutting, primary forest to arable land, p... 100.000000               62.618066\n",
      "                                                   400.000000               62.481332\n",
      "contouring, bronze                                 11.111111                 0.350493\n",
      "copper production, primary                         150.000000                1.349778\n",
      "...                                                                               ...\n",
      "treatment of waste polystyrene, open dump, mois... 66.666667                -0.150363\n",
      "                                                   233.333333               -0.150363\n",
      "zinc sulfide production                            0.000000                  5.291893\n",
      "                                                   66.666667                 1.096604\n",
      "                                                   400.000000                0.148651\n",
      "\n",
      "[50 rows x 1 columns]\n"
     ]
    }
   ],
   "source": [
    "print(acts)"
   ]
  },
  {
   "cell_type": "code",
   "execution_count": 43,
   "metadata": {},
   "outputs": [],
   "source": [
    "acts.to_excel(r'C:\\test\\Book2.xlsx') #Ok this kind of works but isnt taking 50 FUs, just 50 exchanges. "
   ]
  },
  {
   "cell_type": "code",
   "execution_count": null,
   "metadata": {},
   "outputs": [],
   "source": []
  }
 ],
 "metadata": {
  "kernelspec": {
   "display_name": "Python 3",
   "language": "python",
   "name": "python3"
  },
  "language_info": {
   "codemirror_mode": {
    "name": "ipython",
    "version": 3
   },
   "file_extension": ".py",
   "mimetype": "text/x-python",
   "name": "python",
   "nbconvert_exporter": "python",
   "pygments_lexer": "ipython3",
   "version": "3.7.5"
  }
 },
 "nbformat": 4,
 "nbformat_minor": 4
}
